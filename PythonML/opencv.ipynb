{
 "cells": [
  {
   "cell_type": "code",
   "execution_count": 1,
   "id": "0977d208-aed1-42d0-91e6-c0d2896a053e",
   "metadata": {},
   "outputs": [],
   "source": [
    "# camera test code\n",
    "import cv2\n",
    "import numpy as np\n",
    "import time\n",
    "\n",
    "cam = cv2.VideoCapture(0) # 1 is for external webcam / 0 is for own webcam\n",
    "time.sleep(2)\n",
    "\n",
    "while True:\n",
    "    ret,frame = cam.read()\n",
    "    cv2.imshow('webcam', frame)\n",
    "    if cv2.waitKey(1)&0xFF == ord(' '):\n",
    "        break\n",
    "\n",
    "cam.release()\n",
    "cv2.destroyAllWindows()"
   ]
  },
  {
   "cell_type": "code",
   "execution_count": 21,
   "id": "03e55750-0408-4190-b64d-9f82dd1e7bde",
   "metadata": {
    "scrolled": true
   },
   "outputs": [
    {
     "name": "stdout",
     "output_type": "stream",
     "text": [
      "[]\n"
     ]
    }
   ],
   "source": []
  },
  {
   "cell_type": "code",
   "execution_count": null,
   "id": "9b55615c-d0f9-40d5-9f1c-da0ba8ab61c1",
   "metadata": {},
   "outputs": [],
   "source": []
  },
  {
   "cell_type": "code",
   "execution_count": null,
   "id": "2aa5e7d1-3818-423b-8d20-77ff14dc0f4f",
   "metadata": {},
   "outputs": [],
   "source": []
  }
 ],
 "metadata": {
  "kernelspec": {
   "display_name": "Python 3 (ipykernel)",
   "language": "python",
   "name": "python3"
  },
  "language_info": {
   "codemirror_mode": {
    "name": "ipython",
    "version": 3
   },
   "file_extension": ".py",
   "mimetype": "text/x-python",
   "name": "python",
   "nbconvert_exporter": "python",
   "pygments_lexer": "ipython3",
   "version": "3.11.7"
  }
 },
 "nbformat": 4,
 "nbformat_minor": 5
}
