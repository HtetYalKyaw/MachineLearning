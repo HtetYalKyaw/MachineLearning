{
 "cells": [
  {
   "cell_type": "code",
   "execution_count": null,
   "id": "601742ac-81e5-4c4a-a8d6-d109c0e257e0",
   "metadata": {},
   "outputs": [],
   "source": [
    "import random\n",
    "\n",
    "def generate_question():\n",
    "    num1 = random.randint(1, 10)\n",
    "    num2 = random.randint(1, 10)\n",
    "    operator = random.choice(['+', '-', '*', '/'])\n",
    "    question = f\"What is {num1} {operator} {num2}?\"\n",
    "    if operator == '/':\n",
    "        answer = num1 / num2\n",
    "        answer = round(answer, 2)  \n",
    "    else:\n",
    "        answer = eval(f\"{num1}{operator}{num2}\")\n",
    "    return question, answer\n",
    "\n",
    "def quiz():\n",
    "    score = 0\n",
    "    for i in range(5):\n",
    "        question, answer = generate_question()\n",
    "        user_answer = input(question + \" \")\n",
    "        try:\n",
    "            user_answer = float(user_answer) \n",
    "            if user_answer == answer:\n",
    "                print(\"Correct!\")\n",
    "                score += 1\n",
    "            else:\n",
    "                print(f\"Incorrect! The correct answer is {answer}.\")\n",
    "        except ValueError:\n",
    "            print(\"Invalid input! Please enter a number.\")\n",
    "    print(f\"Quiz completed! Your score is {score}/5.\")\n",
    "\n",
    "if __name__ == \"__main__\":\n",
    "    quiz()\n"
   ]
  },
  {
   "cell_type": "code",
   "execution_count": null,
   "id": "585502f1-4009-4b17-a9a7-8c48029274fb",
   "metadata": {},
   "outputs": [],
   "source": []
  }
 ],
 "metadata": {
  "kernelspec": {
   "display_name": "Python 3 (ipykernel)",
   "language": "python",
   "name": "python3"
  },
  "language_info": {
   "codemirror_mode": {
    "name": "ipython",
    "version": 3
   },
   "file_extension": ".py",
   "mimetype": "text/x-python",
   "name": "python",
   "nbconvert_exporter": "python",
   "pygments_lexer": "ipython3",
   "version": "3.11.7"
  }
 },
 "nbformat": 4,
 "nbformat_minor": 5
}
