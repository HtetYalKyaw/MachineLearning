{
 "cells": [
  {
   "cell_type": "code",
   "execution_count": null,
   "id": "51a25478",
   "metadata": {},
   "outputs": [],
   "source": [
    "import cv2\n",
    "import numpy as np\n",
    "\n",
    "def nothing(x):\n",
    "    pass\n",
    "\n",
    "# Create a window named 'image'\n",
    "cv2.namedWindow('image')\n",
    "\n",
    "# Create trackbars for lower and upper color thresholds\n",
    "cv2.createTrackbar('R Min', 'image', 0, 255, nothing)\n",
    "cv2.createTrackbar('R Max', 'image', 255, 255, nothing)\n",
    "cv2.createTrackbar('G Min', 'image', 0, 255, nothing)\n",
    "cv2.createTrackbar('G Max', 'image', 255, 255, nothing)\n",
    "cv2.createTrackbar('B Min', 'image', 0, 255, nothing)\n",
    "cv2.createTrackbar('B Max', 'image', 255, 255, nothing)\n",
    "\n",
    "# Set default values for initial lower and upper color thresholds\n",
    "cv2.setTrackbarPos('R Min', 'image', 0)\n",
    "cv2.setTrackbarPos('R Max', 'image', 255)\n",
    "cv2.setTrackbarPos('G Min', 'image', 0)\n",
    "cv2.setTrackbarPos('G Max', 'image', 255)\n",
    "cv2.setTrackbarPos('B Min', 'image', 0)\n",
    "cv2.setTrackbarPos('B Max', 'image', 255)\n",
    "\n",
    "# Read the image\n",
    "image = cv2.imread('test_image.jpg')\n",
    "\n",
    "while True:\n",
    "    # Get current positions of all trackbars\n",
    "    r_min = cv2.getTrackbarPos('R Min', 'image')\n",
    "    r_max = cv2.getTrackbarPos('R Max', 'image')\n",
    "    g_min = cv2.getTrackbarPos('G Min', 'image')\n",
    "    g_max = cv2.getTrackbarPos('G Max', 'image')\n",
    "    b_min = cv2.getTrackbarPos('B Min', 'image')\n",
    "    b_max = cv2.getTrackbarPos('B Max', 'image')\n",
    "\n",
    "    # Set lower and upper RGB thresholds\n",
    "    lower_color = np.array([r_min, g_min, b_min])\n",
    "    upper_color = np.array([r_max, g_max, b_max])\n",
    "\n",
    "    # Threshold the RGB image to get only the desired colors\n",
    "    mask = cv2.inRange(image, lower_color, upper_color)\n",
    "\n",
    "    # Bitwise-AND mask and original image\n",
    "    result = cv2.bitwise_and(image, image, mask=mask)\n",
    "\n",
    "    # Display the images\n",
    "    cv2.imshow('image', np.hstack([image, result]))\n",
    "\n",
    "    # Break the loop when 'q' is pressed\n",
    "    if cv2.waitKey(1) & 0xFF == ord('q'):\n",
    "        break\n",
    "\n",
    "# Release resources\n",
    "cv2.destroyAllWindows()\n"
   ]
  },
  {
   "cell_type": "code",
   "execution_count": null,
   "id": "ebac8916",
   "metadata": {},
   "outputs": [],
   "source": []
  }
 ],
 "metadata": {
  "kernelspec": {
   "display_name": "Python 3 (ipykernel)",
   "language": "python",
   "name": "python3"
  },
  "language_info": {
   "codemirror_mode": {
    "name": "ipython",
    "version": 3
   },
   "file_extension": ".py",
   "mimetype": "text/x-python",
   "name": "python",
   "nbconvert_exporter": "python",
   "pygments_lexer": "ipython3",
   "version": "3.11.5"
  }
 },
 "nbformat": 4,
 "nbformat_minor": 5
}
